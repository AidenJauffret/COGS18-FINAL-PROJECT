{
 "cells": [
  {
   "cell_type": "markdown",
   "metadata": {},
   "source": [
    "## FINAL PROJECT: Song Saver\n",
    "\n",
    "My final project allows users to save songs through youtube URLs (or any other websites) and file them under custom names to access the URLs without having to search the web.\n",
    "\n",
    "When launching the program, there are 4 options:\n",
    "1) save song: \n",
    "    (allows the user to input a URL and custom name to assign to it)\n",
    "2) play song: \n",
    "    (presents the user a list of their saved songs and takes them to the link associated with the song they input)\n",
    "3) delete song:\n",
    "    (allows the user to delete a specified song from their list of saved songs)\n",
    "4) quit\n",
    "    (terminates the program)\n",
    "\n",
    "To initiate each option, press the corresponding key and then 'enter'\n",
    "\n",
    "## Github:\n",
    "https://github.com/AidenJauffret/COGS18-FINAL-PROJECT"
   ]
  },
  {
   "cell_type": "code",
   "execution_count": null,
   "metadata": {},
   "outputs": [],
   "source": []
  }
 ],
 "metadata": {
  "kernelspec": {
   "display_name": "Python 3",
   "language": "python",
   "name": "python3"
  },
  "language_info": {
   "codemirror_mode": {
    "name": "ipython",
    "version": 3
   },
   "file_extension": ".py",
   "mimetype": "text/x-python",
   "name": "python",
   "nbconvert_exporter": "python",
   "pygments_lexer": "ipython3",
   "version": "3.6.7"
  }
 },
 "nbformat": 4,
 "nbformat_minor": 2
}
